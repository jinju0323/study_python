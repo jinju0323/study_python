{
 "cells": [
  {
   "cell_type": "code",
   "execution_count": 1,
   "metadata": {},
   "outputs": [],
   "source": [
    "# 함수 정의하기\n",
    "def f(x):\n",
    "    return 2 * x + 1"
   ]
  },
  {
   "cell_type": "code",
   "execution_count": 2,
   "metadata": {},
   "outputs": [
    {
     "name": "stdout",
     "output_type": "stream",
     "text": [
      "5\n"
     ]
    }
   ],
   "source": [
    "# 함수 사용하기 (1)\n",
    "y = f(2)\n",
    "print(y)"
   ]
  },
  {
   "cell_type": "code",
   "execution_count": 3,
   "metadata": {},
   "outputs": [
    {
     "name": "stdout",
     "output_type": "stream",
     "text": [
      "11\n"
     ]
    }
   ],
   "source": [
    "# 함수 사용하기 (2)\n",
    "z = f(5)\n",
    "print(z)"
   ]
  },
  {
   "cell_type": "code",
   "execution_count": 4,
   "metadata": {},
   "outputs": [
    {
     "name": "stdout",
     "output_type": "stream",
     "text": [
      "<class 'int'>\n"
     ]
    }
   ],
   "source": [
    "# 정수형 변수의 데이터 타입 확인\n",
    "age = 2\n",
    "typeOfAge = type(age)\n",
    "print(typeOfAge)"
   ]
  },
  {
   "cell_type": "code",
   "execution_count": 5,
   "metadata": {},
   "outputs": [
    {
     "name": "stdout",
     "output_type": "stream",
     "text": [
      "<class 'float'>\n"
     ]
    }
   ],
   "source": [
    "# 실수형 변수의 데이터 타입 확인\n",
    "pi = 3.14\n",
    "typeOfPi = type(pi)\n",
    "print(typeOfPi)"
   ]
  },
  {
   "cell_type": "code",
   "execution_count": 6,
   "metadata": {},
   "outputs": [
    {
     "name": "stdout",
     "output_type": "stream",
     "text": [
      "<class 'str'>\n"
     ]
    }
   ],
   "source": [
    "# 문자열 변수의 데이터 타입 확인\n",
    "msg = \"Hello, World!\"\n",
    "typeOfMsg = type(msg)\n",
    "print(typeOfMsg)"
   ]
  },
  {
   "cell_type": "code",
   "execution_count": 7,
   "metadata": {},
   "outputs": [
    {
     "name": "stdout",
     "output_type": "stream",
     "text": [
      "<class 'bool'>\n"
     ]
    }
   ],
   "source": [
    "# 논리형 변수의 데이터 타입 확인\n",
    "ok = True\n",
    "typeOfOk = type(ok)\n",
    "print(typeOfOk)"
   ]
  },
  {
   "cell_type": "code",
   "execution_count": 10,
   "metadata": {},
   "outputs": [
    {
     "name": "stdout",
     "output_type": "stream",
     "text": [
      "안녕 파이썬!\n",
      "<class 'str'>\n"
     ]
    }
   ],
   "source": [
    "# 문자열 입력받기\n",
    "msg1 = input(\"메시지를 입력하세요.\")\n",
    "print(msg1)\n",
    "\n",
    "# 입력받은 내용의 데이터 타입 확인 --> 문자열(str)\n",
    "t = type(msg1)\n",
    "print(t)"
   ]
  },
  {
   "cell_type": "code",
   "execution_count": 11,
   "metadata": {},
   "outputs": [
    {
     "name": "stdout",
     "output_type": "stream",
     "text": [
      "123\n",
      "<class 'int'>\n"
     ]
    }
   ],
   "source": [
    "# 입력받은 값을 정수 타입으로 변환\n",
    "msg2 = input(\"정수를 입력하세요.\")\n",
    "num = int(msg2)\n",
    "print(num)\n",
    "\n",
    "# 변환 결과의 데이터 타입 확인 --> 정수(int)\n",
    "num_type = type(num)\n",
    "print(num_type)"
   ]
  },
  {
   "cell_type": "code",
   "execution_count": 12,
   "metadata": {},
   "outputs": [
    {
     "name": "stdout",
     "output_type": "stream",
     "text": [
      "3.14\n",
      "<class 'float'>\n"
     ]
    }
   ],
   "source": [
    "# 입력받은 값을 실수 타입으로 변환\n",
    "msg3 = input(\"실수를 입력하세요.\")\n",
    "fnum = float(msg3)\n",
    "print(fnum)\n",
    "\n",
    "# 변환 결과의 데이터 타입 확인 --> 실수(float)\n",
    "fnum_type = type(fnum)\n",
    "print(fnum_type)"
   ]
  },
  {
   "cell_type": "code",
   "execution_count": 13,
   "metadata": {},
   "outputs": [
    {
     "name": "stdout",
     "output_type": "stream",
     "text": [
      "100.0\n",
      "<class 'float'>\n"
     ]
    }
   ],
   "source": [
    "# 정수를 실수로 변환 --> 정수 뒤에 \".0\"이 붙음\n",
    "num1 = 100\n",
    "num2 = float(num1)\n",
    "print(num2)\n",
    "\n",
    "# 변환 결과의 데이터 타입 확인 --> 실수(float)\n",
    "t1 = type(num2)\n",
    "print(t1)"
   ]
  },
  {
   "cell_type": "code",
   "execution_count": 14,
   "metadata": {},
   "outputs": [
    {
     "name": "stdout",
     "output_type": "stream",
     "text": [
      "123\n",
      "<class 'int'>\n"
     ]
    }
   ],
   "source": [
    "# 실수를 정수로 변환 --> 소수점 이하 버림\n",
    "num3 = 123.45\n",
    "num4 = int(num3)\n",
    "print(num4)\n",
    "\n",
    "# 변환 결과의 데이터 타입 확인 --> 정수(int)\n",
    "t2 = type(num4)\n",
    "print(t2)"
   ]
  },
  {
   "cell_type": "code",
   "execution_count": 15,
   "metadata": {},
   "outputs": [],
   "source": [
    "# 실수형 변수의 초기화\n",
    "pi = 3.14"
   ]
  },
  {
   "cell_type": "code",
   "execution_count": 16,
   "metadata": {},
   "outputs": [
    {
     "name": "stdout",
     "output_type": "stream",
     "text": [
      "4\n"
     ]
    }
   ],
   "source": [
    "# 객체에 포함되는 메서드 활용하기 --> 소수점 올림\n",
    "a = pi.__ceil__()\n",
    "print(a)"
   ]
  },
  {
   "cell_type": "code",
   "execution_count": 17,
   "metadata": {},
   "outputs": [
    {
     "name": "stdout",
     "output_type": "stream",
     "text": [
      "3\n"
     ]
    }
   ],
   "source": [
    "# 객체에 포함되는 메서드 활용하기 --> 소수점 내림\n",
    "b = pi.__floor__()\n",
    "print(b)"
   ]
  }
 ],
 "metadata": {
  "kernelspec": {
   "display_name": "Python 3",
   "language": "python",
   "name": "python3"
  },
  "language_info": {
   "codemirror_mode": {
    "name": "ipython",
    "version": 3
   },
   "file_extension": ".py",
   "mimetype": "text/x-python",
   "name": "python",
   "nbconvert_exporter": "python",
   "pygments_lexer": "ipython3",
   "version": "3.13.1"
  }
 },
 "nbformat": 4,
 "nbformat_minor": 2
}
