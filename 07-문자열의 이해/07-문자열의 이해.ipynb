{
 "cells": [
  {
   "cell_type": "code",
   "execution_count": 1,
   "metadata": {},
   "outputs": [
    {
     "name": "stdout",
     "output_type": "stream",
     "text": [
      "Hello, Python\n",
      "Hello, Python\n"
     ]
    }
   ],
   "source": [
    "# 쌍따옴표나 홑따옴표로 감싸야한다. --> 따옴표의 혼용은 불가\n",
    "msg1 = \"Hello, Python\"\n",
    "msg2 = 'Hello, Python'\n",
    "print(msg1)\n",
    "print(msg2)"
   ]
  },
  {
   "cell_type": "code",
   "execution_count": 3,
   "metadata": {},
   "outputs": [],
   "source": [
    "# 따옴표의 쌍이 다르게 지정된 경우 --> 에러\n",
    "# msg3 = \"Hello, Python'\n",
    "# print(msg3)"
   ]
  },
  {
   "cell_type": "code",
   "execution_count": 5,
   "metadata": {},
   "outputs": [
    {
     "name": "stdout",
     "output_type": "stream",
     "text": [
      "Hello, Python\n"
     ]
    }
   ],
   "source": [
    "# 문자열은 덧셈은 문자열을 연결하는 기능\n",
    "msg1 = \"Hello\"\n",
    "msg2 = \"Python\"\n",
    "print(msg1 + \", \" + msg2)"
   ]
  },
  {
   "cell_type": "code",
   "execution_count": 7,
   "metadata": {},
   "outputs": [
    {
     "name": "stdout",
     "output_type": "stream",
     "text": [
      "10020\n"
     ]
    }
   ],
   "source": [
    "# 따옴표로 감싸면 무조건 문장\n",
    "# -> 숫자가 아니므로 연산 결과도 문자열 연산 규칙을 따른다.\n",
    "pay = \"100\"\n",
    "bonus = \"20\"\n",
    "print(pay + bonus)"
   ]
  },
  {
   "cell_type": "code",
   "execution_count": 9,
   "metadata": {},
   "outputs": [],
   "source": [
    "# 문자열과 다른 데이터 타입의 값은 덧셈 불가\n",
    "#print(msg1 + 100)  # 에러"
   ]
  },
  {
   "cell_type": "code",
   "execution_count": 10,
   "metadata": {},
   "outputs": [
    {
     "name": "stdout",
     "output_type": "stream",
     "text": [
      "홍길동홍길동홍길동\n"
     ]
    }
   ],
   "source": [
    "# 문자열과 수자의 곱셈은 동일 내용을 여러번 반복한다\n",
    "name = \"홍길동\"\n",
    "print(name * 3)"
   ]
  },
  {
   "cell_type": "code",
   "execution_count": 12,
   "metadata": {},
   "outputs": [],
   "source": [
    "# 문자열끼리의 곱셈은 불가능\n",
    "#strTimes = \"Hello\" * \"Python\""
   ]
  },
  {
   "cell_type": "code",
   "execution_count": 16,
   "metadata": {},
   "outputs": [
    {
     "name": "stdout",
     "output_type": "stream",
     "text": [
      "Daum Kakao\n",
      "Kakao Daum\n"
     ]
    }
   ],
   "source": [
    "s = \"Daum Kakao\"\n",
    "print(s)\n",
    "\n",
    "s = s[5:] + \" \" + s[:4]\n",
    "\n",
    "print(s)    # Daum Kakao"
   ]
  }
 ],
 "metadata": {
  "kernelspec": {
   "display_name": "Python 3",
   "language": "python",
   "name": "python3"
  },
  "language_info": {
   "codemirror_mode": {
    "name": "ipython",
    "version": 3
   },
   "file_extension": ".py",
   "mimetype": "text/x-python",
   "name": "python",
   "nbconvert_exporter": "python",
   "pygments_lexer": "ipython3",
   "version": "3.13.1"
  }
 },
 "nbformat": 4,
 "nbformat_minor": 2
}
